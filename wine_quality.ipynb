{
 "cells": [
  {
   "cell_type": "markdown",
   "metadata": {},
   "source": [
    "# Training and testing of a classification model: wine quality dataset\n",
    "## Outreachy application startup task"
   ]
  },
  {
   "cell_type": "markdown",
   "metadata": {},
   "source": [
    "In order to get started with Mozilla PRESC, Outreachy applicants are asked to [train a classification model on a chosen dataset, then evaluate the quality of the model](https://github.com/mozilla/PRESC/issues/2) using scikit-learn.  \n",
    "I chose to work on the [wine quality dataset](https://archive.ics.uci.edu/ml/datasets/Wine+Quality)."
   ]
  },
  {
   "cell_type": "markdown",
   "metadata": {},
   "source": [
    "### My background with data science\n",
    "I have experience with tools such as pandas, numpy and matplotlib. I am familiar with data science methodology.\n",
    "More importantly, I used to be in charge of the modelisation tools of my former flood forecasting team. So I am familiar with understanding the strengths and flaws of a model. I hope these skills prove useful.  \n",
    "However, this is my first time working with scikit-learn. I am excited at this opportunity to explore."
   ]
  },
  {
   "cell_type": "markdown",
   "metadata": {},
   "source": [
    "## 1. Model construction\n",
    "In this first of two parts, I will train a classification model to analyze the data.\n",
    "I will follow the following methodology:\n",
    "* Ask a question both interesting and relevant to the data. The following work will aim at answering this question.\n",
    "* Observe and understand the data.\n",
    "* Choose and train a fitting model to answer the question.\n",
    "* Answer the question as best I can using model results.\n",
    "\n",
    "I would usually consider trying another model if I am not satisfied with the results. Since the end goal of this work is to evaluate the model, I will do no such iterative work but focus on highlighting the model's limits. A flawed model will certainly be interesting to evaluate in the second part of my work."
   ]
  },
  {
   "cell_type": "markdown",
   "metadata": {},
   "source": [
    "### The question I want to answer\n",
    "The dataset describes a dozen physicochemical properties of white wines and their quality as percieved by wine experts.  \n",
    "Given the data, the following question follows:  \n",
    "**_What can I learn from the data about the influence of physiochemical properties on wine quality?_**"
   ]
  },
  {
   "cell_type": "markdown",
   "metadata": {},
   "source": [
    "### Diving into the data\n",
    "#### Overview\n",
    "The [wine quality dataset](https://archive.ics.uci.edu/ml/datasets/Wine+Quality) I chose to work with describes quality and physicochemical properties of approximately 5000 instances of Portuguese white wine Vinho Verde.  \n",
    "The **input variables** consist of 11 physiochemical properties of each wine:\n",
    " * fixed acidity\n",
    " * volatile acidity\n",
    " * citric acid\n",
    " * residual sugar\n",
    " * chlorides\n",
    " * free sulfur dioxide\n",
    " * total sulfur dioxide\n",
    " * density\n",
    " * pH\n",
    " * sulphates\n",
    " * alcohol\n",
    " \n",
    "The **output variable** is the quality of wine, assessed by wine experts on a scale of 1 to 10."
   ]
  },
  {
   "cell_type": "markdown",
   "metadata": {},
   "source": [
    "### Understanding input variables\n",
    "Meaningful data analysis requires understanding what the data represents.  \n",
    "In this case, most input variables are technical wine terms I am not familiar enough with to know why they are being measured. Plus the dataset comes without units.  \n",
    "These details must certainly be found in the study the dataset originates from ([[Cortez et al., 2009](https://www.sciencedirect.com/science/article/pii/S0167923609001377?via%3Dihub)]). I don't want to read it so as not to influence my own work. So I found answers through various other sources:"
   ]
  },
  {
   "cell_type": "markdown",
   "metadata": {},
   "source": [
    "| Variable              | Unit in dataset      | Description |\n",
    "| :-------------------- | :--------- | :---------- |\n",
    "| fixed acidity         |   g/l      | Concentration of all nonvolatile or fixed acids, as opposed to volatile acides (see below). The three most important fixed acids are tartaric, malic and citric. They are present in the grapes.|\n",
    "| volatile acidity      |   g/l      | Concentration of all volative acids. Contrary to fixed acids, volative acids are the results of the winemaking process.|\n",
    "| citric acid           |   g/l      | Concentration of citric acid. Usually between 0 and 0.5 g/l.|\n",
    "| residual sugar        |   g/l      | Concentration of sugars remaining from the grapes after winemaking. It can be under 2 g/l for dry wines and up to over 45 g/l for sweet wines.|\n",
    "| chlorides             |   g/l      | Concentration of chloride ions - mainly NaCl ie salt. Usually under 0.05 g/l. But it can be up to over 1 g/l for wines collected close to the sea.|\n",
    "| free sulfur dioxide   |                 |             |\n",
    "| total sulfur dioxide  |                 |             |\n",
    "| density               |    /       |             |\n",
    "| pH                    |    /       |   A measure of overall acidity. The smaller, the more acid. Most wines have a pH between 2.9 and 3.9. Acidity is a fundamental property of wine. |\n",
    "| sulphates             |                 |             |\n",
    "| alcohol               | % of volume| Can vary from 7 to 16%.|"
   ]
  },
  {
   "cell_type": "markdown",
   "metadata": {},
   "source": [
    "Sources :\n",
    "* https://waterhouse.ucdavis.edu/whats-in-wine\n",
    "* https://fr.wikipedia.org/wiki/Acides_du_vin\n",
    "* https://fr.wikipedia.org/wiki/Acidit%C3%A9_volatile\n",
    "* https://www.oenologie.fr\n",
    "* https://dico-du-vin.com\n",
    "* https://www.futura-sciences.com/sciences/dossiers/chimie-chimie-vin-381/\n",
    "  (Since this is merely an exercise, I allow myself to refer to Wikipedia. Articles about wine tend to be good on Wikipedia France.) (I am suddenly craving baguette.)"
   ]
  },
  {
   "cell_type": "markdown",
   "metadata": {},
   "source": [
    "*insert table of descriptive statistics*\n",
    "\n",
    "observations at this point:\n",
    " * 4 out of 11 variables are about acidity. 3 are about sulfur.\n",
    " * the wide distribution of residual sugar in the data indicates that these wines are of different types despite all being white Vinho Verde. Residual sugar might be the right variable for a first approach into classification.\n",
    " * From my humble knowledge of wine, I expect density to be highly correlated to residual sugar and thus not a significant variable.\n",
    " * Sugar is meant to balance acidity and alcohol in the wine. I expect a complex but meaningful correlation between the three.\n",
    " * S rates are indicative of treatments to prevent or curb undesirable effects during winemaking. Poorer quality of wine could be associated with anomalies in S rates.\n",
    " * chlorine should not be significative aside from a small fraction of wines with high chlorine concentration. 110 wines measure above 0.1 g/l."
   ]
  },
  {
   "cell_type": "markdown",
   "metadata": {},
   "source": [
    "## 2. Model evaluation"
   ]
  },
  {
   "cell_type": "code",
   "execution_count": null,
   "metadata": {},
   "outputs": [],
   "source": []
  }
 ],
 "metadata": {
  "kernelspec": {
   "display_name": "Python 3",
   "language": "python",
   "name": "python3"
  },
  "language_info": {
   "codemirror_mode": {
    "name": "ipython",
    "version": 3
   },
   "file_extension": ".py",
   "mimetype": "text/x-python",
   "name": "python",
   "nbconvert_exporter": "python",
   "pygments_lexer": "ipython3",
   "version": "3.7.6"
  }
 },
 "nbformat": 4,
 "nbformat_minor": 2
}
